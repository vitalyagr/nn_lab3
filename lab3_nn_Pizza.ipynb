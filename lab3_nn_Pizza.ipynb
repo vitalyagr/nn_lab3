{
 "cells": [
  {
   "cell_type": "code",
   "execution_count": 1,
   "metadata": {},
   "outputs": [],
   "source": [
    "import os\n",
    "import glob\n",
    "import random\n",
    "\n",
    "import torch\n",
    "import torchvision\n",
    "import numpy as np\n",
    "import cv2\n",
    "from torch.utils.data import Dataset\n",
    "from torch.utils.data import DataLoader\n",
    "from torch import nn\n",
    "from torchvision import transforms\n",
    "import torch.nn.functional as F\n",
    "\n",
    "from IPython.display import Image"
   ]
  },
  {
   "cell_type": "code",
   "execution_count": 2,
   "metadata": {},
   "outputs": [
    {
     "data": {
      "text/plain": [
       "'cuda'"
      ]
     },
     "execution_count": 2,
     "metadata": {},
     "output_type": "execute_result"
    }
   ],
   "source": [
    "if torch.cuda.is_available():\n",
    "    device = \"cuda\"\n",
    "else:\n",
    "    device = \"cpu\"\n",
    "\n",
    "device"
   ]
  },
  {
   "cell_type": "markdown",
   "metadata": {},
   "source": [
    "## Датасет"
   ]
  },
  {
   "cell_type": "markdown",
   "metadata": {},
   "source": [
    "Ссылка на датасет - https://www.kaggle.com/datasets/carlosrunner/pizza-not-pizza\n",
    "\n",
    "Датасет состоит из изображений еды и изображений пиццы\n",
    "\n",
    "Всего 2 класса.\n",
    "\n",
    "Изображения изначально разных размеров, приведены изображения к одному размеру 100 на 100 пикселей"
   ]
  },
  {
   "cell_type": "code",
   "execution_count": 3,
   "metadata": {},
   "outputs": [],
   "source": [
    "import matplotlib.pyplot as plt"
   ]
  },
  {
   "cell_type": "code",
   "execution_count": 4,
   "metadata": {},
   "outputs": [],
   "source": [
    "DATA_PATH = r'D:\\ProgrammingPython\\neural_networks\\pizza_not_pizza_100'\n",
    "classes = {n: cls for n,cls in enumerate(os.listdir(DATA_PATH))}\n",
    "classes_invert = {value:key for key, value in classes.items() }\n",
    "\n",
    "class PizzaDataset(Dataset):\n",
    "    \n",
    "    def __init__(self, rootdir, transform) -> None:\n",
    "        super().__init__()\n",
    "        self.class_names = os.listdir(rootdir)\n",
    "        self.class_idx = [i for i in range(len(self.class_names))]\n",
    "        self.transform = transform\n",
    "        self.images_pathes = []\n",
    "        self.images_clas_names = []\n",
    "\n",
    "        for cls_name in self.class_names:\n",
    "            sub_root = os.path.join(rootdir, cls_name)\n",
    "            self.images_pathes.extend(glob.glob(os.path.join(sub_root, '*.jpg')))\n",
    "            self.images_clas_names.append(cls_name)\n",
    "\n",
    "        random.shuffle(self.images_pathes)\n",
    "            \n",
    "    def __len__(self):\n",
    "        return len(self.images_pathes)\n",
    "    \n",
    "    def __getitem__(self, index) -> tuple:\n",
    "\n",
    "        img_path = self.images_pathes[index]\n",
    "        image = cv2.imread(img_path)\n",
    "        img_folder_pth = os.path.split(img_path)[0]\n",
    "        cls_name = os.path.split(img_folder_pth)[-1]\n",
    "        label = self.class_names.index(cls_name)\n",
    "        \n",
    "        if self.transform:\n",
    "            image = self.transform(image)\n",
    "\n",
    "        return (image, label)"
   ]
  },
  {
   "cell_type": "code",
   "execution_count": 5,
   "metadata": {},
   "outputs": [],
   "source": [
    "transform = transforms.Compose(\n",
    "    [\n",
    "        transforms.ToTensor(), \n",
    "        transforms.Normalize(mean = 0.5, std = 0.5)\n",
    "    ]\n",
    ")"
   ]
  },
  {
   "cell_type": "code",
   "execution_count": 6,
   "metadata": {},
   "outputs": [],
   "source": [
    "from torch.utils.data import DataLoader, random_split\n",
    "from sklearn.model_selection import train_test_split"
   ]
  },
  {
   "cell_type": "markdown",
   "metadata": {},
   "source": [
    "Оригинальный датасет не разделен на тренировочную и тестовую выборки, поэтому разделим датасет в соотношении 80 на 20"
   ]
  },
  {
   "cell_type": "code",
   "execution_count": 7,
   "metadata": {},
   "outputs": [],
   "source": [
    "TEST_SIZE = 0.25\n",
    "BATCH_SIZE = 32\n",
    "SEED = 52"
   ]
  },
  {
   "cell_type": "code",
   "execution_count": 8,
   "metadata": {},
   "outputs": [],
   "source": [
    "dataset = PizzaDataset(DATA_PATH, transform)"
   ]
  },
  {
   "cell_type": "code",
   "execution_count": 9,
   "metadata": {},
   "outputs": [],
   "source": [
    "generator = torch.Generator().manual_seed(SEED)\n",
    "\n",
    "train_dataset, test_dataset = random_split(dataset, [1-TEST_SIZE, TEST_SIZE], generator=generator)"
   ]
  },
  {
   "cell_type": "code",
   "execution_count": 10,
   "metadata": {},
   "outputs": [],
   "source": [
    "train_loader = DataLoader(train_dataset, batch_size=BATCH_SIZE)\n",
    "\n",
    "test_loader = DataLoader(test_dataset, batch_size=BATCH_SIZE)"
   ]
  },
  {
   "cell_type": "code",
   "execution_count": 11,
   "metadata": {},
   "outputs": [
    {
     "name": "stdout",
     "output_type": "stream",
     "text": [
      "torch.Size([32, 3, 100, 100])\n",
      "tensor([1, 0, 1, 0, 0, 1, 1, 1, 0, 0, 1, 1, 0, 0, 1, 1, 0, 0, 1, 1, 1, 1, 1, 1,\n",
      "        1, 0, 0, 1, 1, 0, 0, 0])\n"
     ]
    }
   ],
   "source": [
    "for x,y in train_loader:\n",
    "    print(x.shape)\n",
    "    print(y)\n",
    "    break\n"
   ]
  },
  {
   "cell_type": "markdown",
   "metadata": {},
   "source": [
    "## Модель"
   ]
  },
  {
   "cell_type": "code",
   "execution_count": 12,
   "metadata": {},
   "outputs": [
    {
     "name": "stdout",
     "output_type": "stream",
     "text": [
      "Кол-во классов: 2\n"
     ]
    }
   ],
   "source": [
    "# выход с последнего слоя\n",
    "print(f\"Кол-во классов: {len(classes.values())}\")"
   ]
  },
  {
   "cell_type": "markdown",
   "metadata": {},
   "source": [
    "Напишем полносвязную нейронную сеть классификатор"
   ]
  },
  {
   "cell_type": "code",
   "execution_count": 13,
   "metadata": {},
   "outputs": [],
   "source": [
    "class PizzaClassificator(nn.Module):\n",
    "    def __init__(self):\n",
    "        super(PizzaClassificator, self).__init__()\n",
    "        self.conv_1 = nn.Conv2d(3, 8, (3,3), 1)\n",
    "        self.avPoll_1 = nn.AvgPool2d((2,2), 2)\n",
    "        self.conv_2 = nn.Conv2d(8, 16, (3,3), 1)\n",
    "        self.conv_3 = nn.Conv2d(16, 16, (3,3), 1)\n",
    "        self.conv_4 = nn.Conv2d(16, 32, (3,3), 1)\n",
    "        self.avPoll_2 = nn.AvgPool2d((2,2), 2)\n",
    "        self.conv_5 = nn.Conv2d(32, 64, (3,3), 1)\n",
    "        self.avPoll_3 = nn.AvgPool2d((2,2), 2)\n",
    "        self.linear_1 = nn.Linear(64 * 9 * 9, 512)\n",
    "        self.linear_2 = nn.Linear(512, 2)\n",
    "\n",
    "\n",
    "    def forward(self, x):\n",
    "        x = self.conv_1(x)\n",
    "        x = F.tanh(x)\n",
    "        x = self.avPoll_1(x)\n",
    "        x = F.tanh(x)\n",
    "\n",
    "        x = self.conv_2(x)\n",
    "        x = F.tanh(x)\n",
    "        x = self.conv_3(x)\n",
    "        x = F.tanh(x)\n",
    "        x = self.conv_4(x)\n",
    "        x = F.tanh(x)\n",
    "        x = self.avPoll_2(x)\n",
    "        x = F.tanh(x)\n",
    "\n",
    "        x = self.conv_5(x)\n",
    "        x = F.tanh(x)\n",
    "        x = self.avPoll_3(x)\n",
    "        x = F.tanh(x)\n",
    "\n",
    "        x = torch.flatten(x, start_dim=1)\n",
    "\n",
    "        x = self.linear_1(x)\n",
    "        x = F.tanh(x)\n",
    "        x = self.linear_2(x)\n",
    "        \n",
    "        return x"
   ]
  },
  {
   "cell_type": "code",
   "execution_count": 14,
   "metadata": {},
   "outputs": [],
   "source": [
    "model = PizzaClassificator()\n",
    "model.to(device)\n",
    "loss_function = torch.nn.CrossEntropyLoss()\n",
    "\n",
    "optimizator = torch.optim.Adam(model.parameters(), lr=0.0001,)"
   ]
  },
  {
   "cell_type": "code",
   "execution_count": 15,
   "metadata": {},
   "outputs": [],
   "source": [
    "def val(model, test_loader):\n",
    "    model.eval()\n",
    "    tp = 0\n",
    "    total = 0\n",
    "\n",
    "    for x,y in test_loader:\n",
    "        y = y.to(device)\n",
    "        pred = torch.argmax(model(x.to(device)), dim=1)\n",
    "        tp += int((pred == y).sum().to('cpu'))\n",
    "        total +=len(pred)\n",
    "    \n",
    "    return tp/total\n",
    "\n",
    "def train(dataloader, model, loss_fn, op_fn, epoch):\n",
    "    acc = 0\n",
    "    for ep in range(epoch):\n",
    "        for step, (x, y) in enumerate(dataloader):\n",
    "\n",
    "\n",
    "            y_pred = model(x.to(device))\n",
    "            loss = loss_fn(y_pred.to(device), y.to(device))\n",
    "\n",
    "            op_fn.zero_grad()\n",
    "            loss.backward()\n",
    "            op_fn.step()\n",
    "\n",
    "            if step%100 == 0:\n",
    "                loss, current = loss.item(), (ep+1)*(step+1)*BATCH_SIZE\n",
    "                print(f\"loss = {loss}, samples = {current}\")\n",
    "\n",
    "        acc = val(model, test_loader)\n",
    "        print('accuracy =', acc)\n",
    "\n",
    "    return acc\n"
   ]
  },
  {
   "cell_type": "code",
   "execution_count": 16,
   "metadata": {},
   "outputs": [
    {
     "name": "stdout",
     "output_type": "stream",
     "text": [
      "loss = 0.6923006772994995, samples = 32\n"
     ]
    },
    {
     "name": "stderr",
     "output_type": "stream",
     "text": [
      "d:\\ProgrammingPython\\neural_networks\\.conda\\lib\\site-packages\\torch\\nn\\modules\\conv.py:456: UserWarning: Plan failed with a cudnnException: CUDNN_BACKEND_EXECUTION_PLAN_DESCRIPTOR: cudnnFinalize Descriptor Failed cudnn_status: CUDNN_STATUS_NOT_SUPPORTED (Triggered internally at ..\\aten\\src\\ATen\\native\\cudnn\\Conv_v8.cpp:919.)\n",
      "  return F.conv2d(input, weight, bias, self.stride,\n"
     ]
    },
    {
     "name": "stdout",
     "output_type": "stream",
     "text": [
      "accuracy = 0.5987780040733197\n",
      "loss = 0.6486058235168457, samples = 64\n",
      "accuracy = 0.6537678207739308\n",
      "loss = 0.6378130912780762, samples = 96\n",
      "accuracy = 0.6578411405295316\n",
      "loss = 0.639606773853302, samples = 128\n",
      "accuracy = 0.6639511201629328\n",
      "loss = 0.6345769166946411, samples = 160\n",
      "accuracy = 0.6639511201629328\n"
     ]
    }
   ],
   "source": [
    "accuracy = train(train_loader, model, loss_function, optimizator, 5)"
   ]
  },
  {
   "cell_type": "markdown",
   "metadata": {},
   "source": [
    "Сохраним модель, указав датасет, кол-во эпох и точность"
   ]
  },
  {
   "cell_type": "code",
   "execution_count": 17,
   "metadata": {},
   "outputs": [
    {
     "name": "stdout",
     "output_type": "stream",
     "text": [
      "convolutional_pizza_100_classificator_5_66_40.pt\n"
     ]
    }
   ],
   "source": [
    "accuracy = (accuracy*100)\n",
    "output_str = f\"convolutional_pizza_100_classificator_5_{accuracy:.2f}\"\n",
    "output_str = output_str.replace(\".\", \"_\")\n",
    "output_str = output_str + '.pt'\n",
    "print(output_str)"
   ]
  },
  {
   "cell_type": "code",
   "execution_count": 18,
   "metadata": {},
   "outputs": [],
   "source": [
    "torch.save(model, output_str)"
   ]
  },
  {
   "cell_type": "markdown",
   "metadata": {},
   "source": [
    "## Оценка модели"
   ]
  },
  {
   "cell_type": "code",
   "execution_count": 19,
   "metadata": {},
   "outputs": [
    {
     "data": {
      "text/plain": [
       "torch.Size([32, 2])"
      ]
     },
     "execution_count": 19,
     "metadata": {},
     "output_type": "execute_result"
    }
   ],
   "source": [
    "model.to('cpu')\n",
    "model(x).size()"
   ]
  },
  {
   "cell_type": "code",
   "execution_count": 20,
   "metadata": {},
   "outputs": [
    {
     "data": {
      "text/plain": [
       "PizzaClassificator(\n",
       "  (conv_1): Conv2d(3, 8, kernel_size=(3, 3), stride=(1, 1))\n",
       "  (avPoll_1): AvgPool2d(kernel_size=(2, 2), stride=2, padding=0)\n",
       "  (conv_2): Conv2d(8, 16, kernel_size=(3, 3), stride=(1, 1))\n",
       "  (conv_3): Conv2d(16, 16, kernel_size=(3, 3), stride=(1, 1))\n",
       "  (conv_4): Conv2d(16, 32, kernel_size=(3, 3), stride=(1, 1))\n",
       "  (avPoll_2): AvgPool2d(kernel_size=(2, 2), stride=2, padding=0)\n",
       "  (conv_5): Conv2d(32, 64, kernel_size=(3, 3), stride=(1, 1))\n",
       "  (avPoll_3): AvgPool2d(kernel_size=(2, 2), stride=2, padding=0)\n",
       "  (linear_1): Linear(in_features=5184, out_features=512, bias=True)\n",
       "  (linear_2): Linear(in_features=512, out_features=2, bias=True)\n",
       ")"
      ]
     },
     "execution_count": 20,
     "metadata": {},
     "output_type": "execute_result"
    }
   ],
   "source": [
    "model.eval()"
   ]
  },
  {
   "cell_type": "code",
   "execution_count": 21,
   "metadata": {},
   "outputs": [
    {
     "name": "stdout",
     "output_type": "stream",
     "text": [
      "16\n"
     ]
    }
   ],
   "source": [
    "predicts = []\n",
    "labels = []\n",
    "\n",
    "for x,y in test_loader:\n",
    "    y = y.to('cpu').numpy()\n",
    "    pred = torch.argmax(model(x.to('cpu')), dim=1).to('cpu').numpy()\n",
    "    predicts.append(pred)\n",
    "    labels.append(y)\n",
    "\n",
    "print(len(predicts))\n"
   ]
  },
  {
   "cell_type": "markdown",
   "metadata": {},
   "source": [
    "Сравним истинные метки и ответы модели на первых десяти метках"
   ]
  },
  {
   "cell_type": "code",
   "execution_count": 27,
   "metadata": {},
   "outputs": [
    {
     "name": "stdout",
     "output_type": "stream",
     "text": [
      "labels  : [0 1 0 0 1 1 0 0 0 0]\n",
      "predicts: [0 0 0 0 1 1 0 0 0 0]\n"
     ]
    }
   ],
   "source": [
    "print(f'labels  : {labels[:10]}')\n",
    "print(f'predicts: {predicts[:10]}')"
   ]
  },
  {
   "cell_type": "code",
   "execution_count": 23,
   "metadata": {},
   "outputs": [],
   "source": [
    "predicts = np.concatenate(predicts)\n",
    "labels = np.concatenate(labels)"
   ]
  },
  {
   "cell_type": "code",
   "execution_count": 28,
   "metadata": {},
   "outputs": [],
   "source": [
    "from sklearn.metrics import confusion_matrix, accuracy_score, precision_score, recall_score"
   ]
  },
  {
   "cell_type": "code",
   "execution_count": 29,
   "metadata": {},
   "outputs": [
    {
     "name": "stdout",
     "output_type": "stream",
     "text": [
      "Accuracy = 0.6639511201629328 \n",
      "Precision = 0.6652991795077046 \n",
      "Recall = 0.6644926814696803\n"
     ]
    }
   ],
   "source": [
    "print(f\"Accuracy = {accuracy_score(labels, predicts)}\",\n",
    "    f\"\\nPrecision = {precision_score(labels, predicts, average=None, zero_division=0).mean()}\",\n",
    "    f\"\\nRecall = {recall_score(labels, predicts, average=None).mean()}\")"
   ]
  },
  {
   "cell_type": "code",
   "execution_count": 24,
   "metadata": {},
   "outputs": [
    {
     "data": {
      "text/plain": [
       "(2, 2)"
      ]
     },
     "execution_count": 24,
     "metadata": {},
     "output_type": "execute_result"
    }
   ],
   "source": [
    "from sklearn.metrics import confusion_matrix\n",
    "cm = confusion_matrix(labels, predicts, labels=tuple(classes.keys()))\n",
    "cm.shape\n"
   ]
  },
  {
   "cell_type": "code",
   "execution_count": 25,
   "metadata": {},
   "outputs": [],
   "source": [
    "def plot_confusion_matrix(cm,\n",
    "                          target_names,\n",
    "                          title='Confusion matrix',\n",
    "                          cmap=None,\n",
    "                          normalize=True):\n",
    "    \"\"\"\n",
    "    given a sklearn confusion matrix (cm), make a nice plot\n",
    "\n",
    "    Arguments\n",
    "    ---------\n",
    "    cm:           confusion matrix from sklearn.metrics.confusion_matrix\n",
    "\n",
    "    target_names: given classification classes such as [0, 1, 2]\n",
    "                  the class names, for example: ['high', 'medium', 'low']\n",
    "\n",
    "    title:        the text to display at the top of the matrix\n",
    "\n",
    "    cmap:         the gradient of the values displayed from matplotlib.pyplot.cm\n",
    "                  see http://matplotlib.org/examples/color/colormaps_reference.html\n",
    "                  plt.get_cmap('jet') or plt.cm.Blues\n",
    "\n",
    "    normalize:    If False, plot the raw numbers\n",
    "                  If True, plot the proportions\n",
    "\n",
    "    Usage\n",
    "    -----\n",
    "    plot_confusion_matrix(cm           = cm,                  # confusion matrix created by\n",
    "                                                              # sklearn.metrics.confusion_matrix\n",
    "                          normalize    = True,                # show proportions\n",
    "                          target_names = y_labels_vals,       # list of names of the classes\n",
    "                          title        = best_estimator_name) # title of graph\n",
    "\n",
    "    Citiation\n",
    "    ---------\n",
    "    http://scikit-learn.org/stable/auto_examples/model_selection/plot_confusion_matrix.html\n",
    "\n",
    "    \"\"\"\n",
    "    import numpy as np\n",
    "    import itertools\n",
    "\n",
    "    accuracy = np.trace(cm) / float(np.sum(cm))\n",
    "    misclass = 1 - accuracy\n",
    "\n",
    "    if cmap is None:\n",
    "        cmap = plt.get_cmap('Blues')\n",
    "\n",
    "    plt.imshow(cm, interpolation='nearest', cmap=cmap)\n",
    "    plt.title(title)\n",
    "    plt.colorbar()\n",
    "\n",
    "    if target_names is not None:\n",
    "        tick_marks = np.arange(len(target_names))\n",
    "        plt.xticks(tick_marks, target_names, rotation=45)\n",
    "        plt.yticks(tick_marks, target_names)\n",
    "\n",
    "    if normalize:\n",
    "        cm = cm.astype('float') / cm.sum(axis=1)[:, np.newaxis]\n",
    "\n",
    "\n",
    "    thresh = cm.max() / 1.5 if normalize else cm.max() / 2\n",
    "    for i, j in itertools.product(range(cm.shape[0]), range(cm.shape[1])):\n",
    "        if normalize:\n",
    "            plt.text(j, i, \"{:0.4f}\".format(cm[i, j]),\n",
    "                     horizontalalignment=\"center\",\n",
    "                     color=\"white\" if cm[i, j] > thresh else \"black\")\n",
    "        else:\n",
    "            plt.text(j, i, \"{:,}\".format(cm[i, j]),\n",
    "                     horizontalalignment=\"center\",\n",
    "                     color=\"white\" if cm[i, j] > thresh else \"black\")\n",
    "\n",
    "\n",
    "    plt.tight_layout()\n",
    "    plt.ylabel('True label')\n",
    "    plt.xlabel('Predicted label\\naccuracy={:0.4f}; misclass={:0.4f}'.format(accuracy, misclass))\n",
    "    plt.show()"
   ]
  },
  {
   "cell_type": "markdown",
   "metadata": {},
   "source": [
    "Выведем матрицу ошибок"
   ]
  },
  {
   "cell_type": "code",
   "execution_count": 26,
   "metadata": {},
   "outputs": [
    {
     "data": {
      "image/png": "[encoded data removed]",
      "text/plain": [
       "<Figure size 500x500 with 2 Axes>"
      ]
     },
     "metadata": {},
     "output_type": "display_data"
    }
   ],
   "source": [
    "plt.figure(figsize=(5, 5))\n",
    "plt.rcParams.update({'font.size': 9})\n",
    "plot_confusion_matrix(cm, tuple(classes.values()))"
   ]
  }
 ],
 "metadata": {
  "kernelspec": {
   "display_name": "base",
   "language": "python",
   "name": "python3"
  },
  "language_info": {
   "codemirror_mode": {
    "name": "ipython",
    "version": 3
   },
   "file_extension": ".py",
   "mimetype": "text/x-python",
   "name": "python",
   "nbconvert_exporter": "python",
   "pygments_lexer": "ipython3",
   "version": "3.10.14"
  }
 },
 "nbformat": 4,
 "nbformat_minor": 2
}
